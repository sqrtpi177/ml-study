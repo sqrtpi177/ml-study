{
 "cells": [
  {
   "cell_type": "code",
   "execution_count": null,
   "metadata": {
    "colab": {
     "base_uri": "https://localhost:8080/",
     "height": 35
    },
    "colab_type": "code",
    "executionInfo": {
     "elapsed": 5241,
     "status": "ok",
     "timestamp": 1597812770559,
     "user": {
      "displayName": "사호준",
      "photoUrl": "https://lh3.googleusercontent.com/a-/AOh14GifaJmVQtWzeqsr7_VXR-ZoblaEug91t4IPviwSvg=s64",
      "userId": "09530346323918215649"
     },
     "user_tz": -540
    },
    "id": "yLIlDt8vwYFQ",
    "outputId": "0e87c812-be8a-41af-efca-fad70b7f039a",
    "scrolled": true
   },
   "outputs": [],
   "source": [
    "import os\n",
    "import torch\n",
    "import torch.nn as nn\n",
    "import torch.optim as optim\n",
    "import torchvision\n",
    "import torchvision.transforms as transforms\n",
    "from torchsummary import summary\n",
    "import numpy as np\n",
    "import matplotlib.pyplot as plt\n",
    "!pip install Pillow\n",
    "from PIL import Image\n",
    "import matplotlib.animation as animation\n",
    "from IPython.display import HTML\n",
    "\n",
    "device = torch.device(\"cuda\" if torch.cuda.is_available() else \"cpu\")"
   ]
  },
  {
   "cell_type": "code",
   "execution_count": null,
   "metadata": {
    "colab": {},
    "colab_type": "code",
    "id": "OnPYbpVUwYFU"
   },
   "outputs": [],
   "source": [
    "# root directory for dataset\n",
    "data_root = './data'\n",
    "\n",
    "# directory for generated images\n",
    "fake_dir = \"./gan-03-images\"\n",
    "\n",
    "# make fake_dir\n",
    "if not os.path.exists(fake_dir):\n",
    "    os.makedirs(fake_dir)\n",
    "\n",
    "num_workers = 2\n",
    "ngpu = 1\n",
    "batch_size = 256\n",
    "\n",
    "image_size = 32\n",
    "nc = 3\n",
    "nz = 100\n",
    "ngf = 64\n",
    "ndf = 64\n",
    "\n",
    "num_epochs = 200\n",
    "learning_rate = 0.0002\n",
    "beta1 = 0.5"
   ]
  },
  {
   "cell_type": "code",
   "execution_count": null,
   "metadata": {
    "colab": {
     "base_uri": "https://localhost:8080/",
     "height": 35
    },
    "colab_type": "code",
    "executionInfo": {
     "elapsed": 7434,
     "status": "ok",
     "timestamp": 1597812772763,
     "user": {
      "displayName": "사호준",
      "photoUrl": "https://lh3.googleusercontent.com/a-/AOh14GifaJmVQtWzeqsr7_VXR-ZoblaEug91t4IPviwSvg=s64",
      "userId": "09530346323918215649"
     },
     "user_tz": -540
    },
    "id": "n7r2-sWbwYFW",
    "outputId": "a8e08fd1-fe42-4903-9aa6-6c35ae267f38"
   },
   "outputs": [],
   "source": [
    "transform=transforms.Compose([\n",
    "    transforms.ToTensor(),\n",
    "    transforms.Normalize([0.5, 0.5, 0.5], [0.5, 0.5, 0.5])\n",
    "])\n",
    "\n",
    "dataset = torchvision.datasets.CIFAR10(root=data_root,\n",
    "                                       train=True,\n",
    "                                       download=True,\n",
    "                                       transform=transform)\n",
    "\n",
    "data_loader = torch.utils.data.DataLoader(dataset=dataset,\n",
    "                                         batch_size=batch_size,\n",
    "                                         shuffle=True,\n",
    "                                         num_workers=num_workers)"
   ]
  },
  {
   "cell_type": "code",
   "execution_count": null,
   "metadata": {
    "colab": {},
    "colab_type": "code",
    "id": "EzHmrdoLwYFd"
   },
   "outputs": [],
   "source": [
    "def weights_init(m):\n",
    "    classname = m.__class__.__name__\n",
    "    if classname.find('Conv') != -1:\n",
    "        nn.init.normal_(m.weight.data, 0.0, 0.02)\n",
    "    elif classname.find('BatchNorm') != -1:\n",
    "        nn.init.normal_(m.weight.data, 1.0, 0.02)\n",
    "        nn.init.constant_(m.bias.data, 0)"
   ]
  },
  {
   "cell_type": "code",
   "execution_count": null,
   "metadata": {
    "colab": {},
    "colab_type": "code",
    "id": "j4a2LascwYFf"
   },
   "outputs": [],
   "source": [
    "class Generator(nn.Module):\n",
    "    def __init__(self, ngpu):\n",
    "        super(Generator, self).__init__()\n",
    "        self.ngpu = ngpu\n",
    "        self.main = nn.Sequential(\n",
    "            nn.ConvTranspose2d(nz, ngf*4, 4, 1, 0, bias=False),\n",
    "            nn.BatchNorm2d(ngf*4),\n",
    "            nn.ReLU(True),\n",
    "\n",
    "            nn.ConvTranspose2d(ngf*4, ngf*2, 4, 2, 1, bias=False),\n",
    "            nn.BatchNorm2d(ngf*2),\n",
    "            nn.ReLU(True),\n",
    "\n",
    "            nn.ConvTranspose2d(ngf*2, ngf, 4, 2, 1, bias=False),\n",
    "            nn.BatchNorm2d(ngf),\n",
    "            nn.ReLU(True),\n",
    "\n",
    "            nn.ConvTranspose2d(ngf, 3, 4, 2, 1, bias=False),\n",
    "            nn.Tanh()\n",
    "        )\n",
    "    def forward(self, x):\n",
    "        out = self.main(x)\n",
    "        return out"
   ]
  },
  {
   "cell_type": "code",
   "execution_count": null,
   "metadata": {
    "colab": {},
    "colab_type": "code",
    "id": "tJAUKNgxwYFh"
   },
   "outputs": [],
   "source": [
    "class Discriminator(nn.Module):\n",
    "    def __init__(self, ngpu):\n",
    "        super(Discriminator, self).__init__()\n",
    "        self.ngpu = ngpu\n",
    "        self.main = nn.Sequential(\n",
    "            nn.Conv2d(nc, ndf, 4, 2, 1, bias=False),\n",
    "            nn.LeakyReLU(0.2, True),\n",
    "\n",
    "            nn.Conv2d(ndf, ndf*2, 4, 2, 1, bias=False),\n",
    "            nn.LeakyReLU(0.2, True),\n",
    "            nn.BatchNorm2d(ndf*2),\n",
    "\n",
    "            nn.Conv2d(ndf*2, ndf*4, 4, 2, 1, bias=False),\n",
    "            nn.LeakyReLU(0.2, True),\n",
    "            nn.BatchNorm2d(ndf*4),\n",
    "\n",
    "            nn.Conv2d(ndf*4, 1, 4, 1, 0, bias=False),\n",
    "            nn.Flatten(1, -1),\n",
    "            nn.Sigmoid()\n",
    "        )\n",
    "    def forward(self, x):\n",
    "        out = self.main(x)\n",
    "        return out"
   ]
  },
  {
   "cell_type": "code",
   "execution_count": null,
   "metadata": {
    "colab": {
     "base_uri": "https://localhost:8080/",
     "height": 557
    },
    "colab_type": "code",
    "executionInfo": {
     "elapsed": 12670,
     "status": "ok",
     "timestamp": 1597812778014,
     "user": {
      "displayName": "사호준",
      "photoUrl": "https://lh3.googleusercontent.com/a-/AOh14GifaJmVQtWzeqsr7_VXR-ZoblaEug91t4IPviwSvg=s64",
      "userId": "09530346323918215649"
     },
     "user_tz": -540
    },
    "id": "B7b8gWmzwYFn",
    "outputId": "b8241076-ad4d-4da1-a9a8-f27e3c33b1ba"
   },
   "outputs": [],
   "source": [
    "G = Generator(ngpu).to(device)\n",
    "D = Discriminator(ngpu).to(device)\n",
    "\n",
    "G.apply(weights_init)\n",
    "D.apply(weights_init)\n",
    "\n",
    "if device.type == \"cuda\" and ngpu > 1:\n",
    "    G = nn.DataParallel(G, list(range(ngpu)))\n",
    "    D = nn.DataParallel(D, list(range(ngpu)))\n",
    "\n",
    "print(G)\n",
    "print(D)"
   ]
  },
  {
   "cell_type": "code",
   "execution_count": null,
   "metadata": {
    "colab": {
     "base_uri": "https://localhost:8080/",
     "height": 881
    },
    "colab_type": "code",
    "executionInfo": {
     "elapsed": 12669,
     "status": "ok",
     "timestamp": 1597812778015,
     "user": {
      "displayName": "사호준",
      "photoUrl": "https://lh3.googleusercontent.com/a-/AOh14GifaJmVQtWzeqsr7_VXR-ZoblaEug91t4IPviwSvg=s64",
      "userId": "09530346323918215649"
     },
     "user_tz": -540
    },
    "id": "G9HzidWiwYFs",
    "outputId": "e825c406-24b2-4add-929d-507402f1ebdc"
   },
   "outputs": [],
   "source": [
    "summary(G, (100, 1, 1))\n",
    "summary(D, (3, 32, 32))"
   ]
  },
  {
   "cell_type": "code",
   "execution_count": null,
   "metadata": {
    "colab": {},
    "colab_type": "code",
    "id": "uFktStyYwYFu"
   },
   "outputs": [],
   "source": [
    "def denorm(x):\n",
    "    out = (x+1)/2\n",
    "    return out\n",
    "\n",
    "def reset_grad():\n",
    "    g_optimizer.zero_grad()\n",
    "    d_optimizer.zero_grad()"
   ]
  },
  {
   "cell_type": "code",
   "execution_count": null,
   "metadata": {
    "colab": {},
    "colab_type": "code",
    "id": "x6o9dt3HwYFw"
   },
   "outputs": [],
   "source": [
    "criterion = nn.BCELoss()\n",
    "g_optimizer = optim.Adam(G.parameters(), lr=learning_rate, betas=(beta1, 0.999))\n",
    "d_optimizer = optim.Adam(D.parameters(), lr=learning_rate, betas=(beta1, 0.999))"
   ]
  },
  {
   "cell_type": "code",
   "execution_count": null,
   "metadata": {
    "colab": {
     "base_uri": "https://localhost:8080/",
     "height": 1000
    },
    "colab_type": "code",
    "id": "gTg50dUPwYFy",
    "outputId": "a906b8fe-f6ac-4665-8e76-ebe909d40245"
   },
   "outputs": [],
   "source": [
    "img_list = []\n",
    "g_losses = []\n",
    "d_losses = []\n",
    "total_step = len(data_loader)\n",
    "\n",
    "for epoch in range(num_epochs):\n",
    "    for i, (real_images, _) in enumerate(data_loader):\n",
    "        #==========train D==========#\n",
    "        # train with real images\n",
    "        real_images = real_images.to(device)\n",
    "        real_labels = torch.ones(batch_size, 1).to(device)\n",
    "        \n",
    "        outputs = D(real_images)\n",
    "        d_loss_real = criterion(outputs, real_labels[:len(outputs)])\n",
    "        real_score = outputs\n",
    "        \n",
    "        # train with fake images\n",
    "        z = torch.randn(batch_size, nz, 1, 1).to(device)\n",
    "        fake_images = G(z)\n",
    "        fake_labels = torch.zeros(batch_size, 1).to(device)\n",
    "        \n",
    "        outputs = D(fake_images)\n",
    "        d_loss_fake = criterion(outputs, fake_labels[:len(outputs)])\n",
    "        fake_score = outputs\n",
    "        \n",
    "        d_loss = d_loss_real + d_loss_fake\n",
    "        reset_grad()\n",
    "        d_loss.backward()\n",
    "        d_optimizer.step()\n",
    "        \n",
    "        #==========train G==========#\n",
    "        z = torch.randn(batch_size, nz, 1, 1).to(device)\n",
    "        fake_images = G(z)\n",
    "        outputs = D(fake_images)\n",
    "        \n",
    "        g_loss = criterion(outputs, real_labels[:len(outputs)])\n",
    "        reset_grad()\n",
    "        g_loss.backward()\n",
    "        g_optimizer.step()\n",
    "        \n",
    "        g_losses.append(g_loss.item())\n",
    "        d_losses.append(d_loss.item())\n",
    "    \n",
    "    print('Epoch [{}/{}], Step [{}/{}], d_loss: {:.4f}, g_loss: {:.4f}, D(x): {:.2f}, D(G(z)): {:.2f}' \n",
    "                  .format(epoch+1, num_epochs, i+1, total_step, d_loss.item(), g_loss.item(), \n",
    "                          real_score.mean().item(), fake_score.mean().item()))\n",
    "    \n",
    "    if (epoch+1) == 1:\n",
    "        torchvision.utils.save_image(denorm(real_images), os.path.join(fake_dir, 'real_images.png'))\n",
    "    \n",
    "    torchvision.utils.save_image(denorm(fake_images), os.path.join(fake_dir, 'fake_images-{}.png').format(epoch+1))\n",
    "    img_list.append(torchvision.utils.make_grid(fake_images, padding=2, normalize=True))\n",
    "\n",
    "torch.save(G.parameters(), './G.ckpt')\n",
    "torch.save(D.parameters(), './D.ckpt')"
   ]
  },
  {
   "cell_type": "code",
   "execution_count": null,
   "metadata": {
    "colab": {},
    "colab_type": "code",
    "id": "ufEyz0K0wYF0"
   },
   "outputs": [],
   "source": [
    "plt.figure(figsize=(10,5))\n",
    "plt.title(\"Generator and Discriminator Loss During Training\")\n",
    "plt.plot(g_losses,label=\"G\")\n",
    "plt.plot(d_losses,label=\"D\")\n",
    "plt.xlabel(\"iterations\")\n",
    "plt.ylabel(\"Loss\")\n",
    "plt.legend()\n",
    "plt.show()"
   ]
  },
  {
   "cell_type": "code",
   "execution_count": null,
   "metadata": {
    "colab": {},
    "colab_type": "code",
    "id": "U87ObRNYwYF1"
   },
   "outputs": [],
   "source": [
    "fig = plt.figure(figsize=(8,8))\n",
    "plt.axis(\"off\")\n",
    "ims = [[plt.imshow(np.transpose(i,(1,2,0)), animated=True)] for i in img_list]\n",
    "ani = animation.ArtistAnimation(fig, ims, interval=1000, repeat_delay=1000, blit=True)\n",
    "\n",
    "HTML(ani.to_jshtml())"
   ]
  },
  {
   "cell_type": "code",
   "execution_count": null,
   "metadata": {
    "colab": {},
    "colab_type": "code",
    "id": "ADhl84pqwYF3"
   },
   "outputs": [],
   "source": [
    "# Grab a batch of real images from the dataloader\n",
    "real_batch = next(iter(data_loader))\n",
    "\n",
    "# Plot the real images\n",
    "plt.figure(figsize=(15,15))\n",
    "plt.subplot(1,2,1)\n",
    "plt.axis(\"off\")\n",
    "plt.title(\"Real Images\")\n",
    "plt.imshow(np.transpose(torchvision.utils.make_grid(real_batch[0].to(device)[:64], padding=5, normalize=True).cpu(),(1,2,0)))\n",
    "\n",
    "# Plot the fake images from the last epoch\n",
    "plt.subplot(1,2,2)\n",
    "plt.axis(\"off\")\n",
    "plt.title(\"Fake Images\")\n",
    "plt.imshow(np.transpose(img_list[-1].cpu(),(1,2,0)))\n",
    "plt.show()"
   ]
  },
  {
   "cell_type": "code",
   "execution_count": null,
   "metadata": {
    "colab": {},
    "colab_type": "code",
    "id": "kIr77F6I2DeB"
   },
   "outputs": [],
   "source": []
  }
 ],
 "metadata": {
  "accelerator": "GPU",
  "colab": {
   "collapsed_sections": [],
   "name": "practice-gan-03.ipynb",
   "provenance": []
  },
  "kernelspec": {
   "display_name": "Python 3",
   "language": "python",
   "name": "python3"
  },
  "language_info": {
   "codemirror_mode": {
    "name": "ipython",
    "version": 3
   },
   "file_extension": ".py",
   "mimetype": "text/x-python",
   "name": "python",
   "nbconvert_exporter": "python",
   "pygments_lexer": "ipython3",
   "version": "3.7.7"
  }
 },
 "nbformat": 4,
 "nbformat_minor": 1
}
