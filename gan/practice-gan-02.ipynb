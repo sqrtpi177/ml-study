{
 "cells": [
  {
   "cell_type": "markdown",
   "metadata": {
    "colab_type": "text",
    "id": "aY5hBlYgPCHU"
   },
   "source": [
    "DCGAN 성공한 버전. MNIST 데이터에 맞춰 공식 튜토리얼 약간 바꿨습니다."
   ]
  },
  {
   "cell_type": "code",
   "execution_count": null,
   "metadata": {
    "colab": {},
    "colab_type": "code",
    "id": "CWnllVZmp9Sk"
   },
   "outputs": [],
   "source": [
    "from __future__ import print_function\n",
    "%matplotlib inline\n",
    "import argparse\n",
    "import os\n",
    "import random\n",
    "import torch\n",
    "import torch.nn as nn\n",
    "import torch.nn.parallel\n",
    "import torch.backends.cudnn as cudnn\n",
    "import torch.optim as optim\n",
    "import torch.utils.data\n",
    "import torchvision.datasets as dset\n",
    "import torchvision.transforms as transforms\n",
    "import torchvision.utils as vutils\n",
    "from torchsummary import summary\n",
    "import numpy as np\n",
    "import matplotlib.pyplot as plt\n",
    "import matplotlib.animation as animation\n",
    "from IPython.display import HTML\n",
    "\n",
    "# Set random seed for reproducibility\n",
    "manualSeed = 999\n",
    "# manualSeed = random.randint(1, 10000) # use if you want new results\n",
    "print(\"Random Seed: \", manualSeed)\n",
    "random.seed(manualSeed)\n",
    "torch.manual_seed(manualSeed)"
   ]
  },
  {
   "cell_type": "code",
   "execution_count": null,
   "metadata": {
    "colab": {},
    "colab_type": "code",
    "id": "W7xrrgzBMS_R"
   },
   "outputs": [],
   "source": [
    "dataroot = './data/mnist'\n",
    "workers = 2\n",
    "ngpu = 1\n",
    "batch_size = 128\n",
    "\n",
    "image_size = 64\n",
    "nc = 1\n",
    "nz = 100\n",
    "ngf = 256\n",
    "ndf = 256\n",
    "\n",
    "num_epochs = 200\n",
    "lr = 0.0002\n",
    "beta1 = 0.5"
   ]
  },
  {
   "cell_type": "code",
   "execution_count": null,
   "metadata": {
    "colab": {},
    "colab_type": "code",
    "id": "yLsr_juePpGX"
   },
   "outputs": [],
   "source": [
    "# dataset = dset.ImageFolder(root=dataroot,\n",
    "#                            transform=transforms.Compose([\n",
    "#                                transforms.Resize(image_size),\n",
    "#                                transforms.CenterCrop(image_size),\n",
    "#                                transforms.ToTensor(),\n",
    "#                                transforms.Normalize([0.5, 0.5, 0.5], [0.5, 0.5, 0.5])\n",
    "#                            ]))\n",
    "\n",
    "# dataloader = torch.utils.data.Dataloader(dataset,\n",
    "#                                          batch_size=batch_size,\n",
    "#                                          shuffle=True,\n",
    "#                                          num_workers=workers)\n",
    "\n",
    "transform = transforms.Compose([\n",
    "                                transforms.ToTensor(),\n",
    "                                transforms.Normalize([0.5], [0.5])\n",
    "])\n",
    "\n",
    "dataset = dset.MNIST(root=dataroot,\n",
    "                     train=True,\n",
    "                     transform=transform,\n",
    "                     download=True\n",
    "                     )\n",
    "\n",
    "dataloader = torch.utils.data.DataLoader(dataset=dataset,\n",
    "                                         batch_size=batch_size,\n",
    "                                         shuffle=True,\n",
    "                                         num_workers=workers)\n",
    "\n",
    "device = torch.device(\"cuda:0\" if torch.cuda.is_available() and ngpu > 0 else \"cpu\")\n",
    "\n",
    "print(len(dataloader))\n",
    "\n",
    "# real_batch = next(iter(dataloader))\n",
    "# plt.figure(figsize=(8, 8))\n",
    "# plt.axis(\"off\")\n",
    "# plt.title(\"Training Images\")\n",
    "# plt.imshow(np.transpose(vutils.make_grid(real_batch[0].to(device)[:64],\n",
    "#                                          padding=2,\n",
    "#                                          normalize=True).cpu(),\n",
    "#                                          (1, 2, 0)))"
   ]
  },
  {
   "cell_type": "code",
   "execution_count": null,
   "metadata": {
    "colab": {},
    "colab_type": "code",
    "id": "mRoJbAx5APMo"
   },
   "outputs": [],
   "source": [
    "def weights_init(m):\n",
    "    classname = m.__class__.__name__\n",
    "    if classname.find('Conv') != -1:\n",
    "        nn.init.normal_(m.weight.data, 0.0, 0.02)\n",
    "    elif classname.find('BatchNorm') != -1:\n",
    "        nn.init.normal_(m.weight.data, 1.0, 0.02)\n",
    "        nn.init.constant_(m.bias.data, 0)"
   ]
  },
  {
   "cell_type": "code",
   "execution_count": null,
   "metadata": {
    "colab": {},
    "colab_type": "code",
    "id": "6ruztCn-TyVK"
   },
   "outputs": [],
   "source": [
    "class Generator(nn.Module):\n",
    "    def __init__(self, ngpu):\n",
    "        super(Generator, self).__init__()\n",
    "        self.ngpu = ngpu\n",
    "        self.main = nn.Sequential(  # nz\n",
    "            nn.ConvTranspose2d(nz, ngf*4, 4, 1, 0, bias=False),  # ngf*4@4*4\n",
    "            nn.BatchNorm2d(ngf*4),\n",
    "            nn.ReLU(True),\n",
    "\n",
    "            nn.ConvTranspose2d(ngf*4, ngf*2, 3, 2, 1, bias=False),  # ngf*2@7*7\n",
    "            nn.BatchNorm2d(ngf*2),\n",
    "            nn.ReLU(True),\n",
    "\n",
    "            nn.ConvTranspose2d(ngf*2, ngf, 4, 2, 1, bias=False),  # ngf@14*14\n",
    "            nn.BatchNorm2d(ngf),\n",
    "            nn.ReLU(True),\n",
    "\n",
    "            nn.ConvTranspose2d(ngf, nc, 4, 2, 1, bias=False),  # nc@28*28\n",
    "            nn.Tanh()  # [-1, 1]\n",
    "        )\n",
    "\n",
    "    def forward(self, input):\n",
    "        return self.main(input)"
   ]
  },
  {
   "cell_type": "code",
   "execution_count": null,
   "metadata": {
    "colab": {},
    "colab_type": "code",
    "id": "JPlJCz85V7OQ"
   },
   "outputs": [],
   "source": [
    "netG = Generator(ngpu).to(device)\n",
    "\n",
    "if device.type == \"cuda\" and ngpu > 1:\n",
    "    netG = nn.DataParallel(netG, list(range(ngpu)))\n",
    "\n",
    "netG.apply(weights_init)\n",
    "print(netG)"
   ]
  },
  {
   "cell_type": "code",
   "execution_count": null,
   "metadata": {
    "colab": {},
    "colab_type": "code",
    "id": "ot59GUB1WmiQ"
   },
   "outputs": [],
   "source": [
    "class Discriminator(nn.Module):\n",
    "    def __init__(self, ngpu):\n",
    "        super(Discriminator, self).__init__()\n",
    "        self.ngpu = ngpu\n",
    "        self.main = nn.Sequential(  # nc@28*28\n",
    "            nn.Conv2d(nc, ndf, 4, 2, 1, bias=False),  # ndf@14*14\n",
    "            nn.LeakyReLU(0.2, inplace=True),\n",
    "\n",
    "            nn.Conv2d(ndf, ndf*2, 4, 2, 1, bias=False),  # ndf*2@7*7\n",
    "            nn.BatchNorm2d(ndf*2),\n",
    "            nn.LeakyReLU(0.2, inplace=True),\n",
    "\n",
    "            nn.Conv2d(ndf*2, 1, 4, 1, 0, bias=False),  # 1@4*4\n",
    "            nn.Flatten(1, -1),\n",
    "            nn.Linear(16, 1),\n",
    "            nn.Sigmoid()\n",
    "        )\n",
    "    \n",
    "    def forward(self, input):\n",
    "        return self.main(input)"
   ]
  },
  {
   "cell_type": "code",
   "execution_count": null,
   "metadata": {
    "colab": {},
    "colab_type": "code",
    "id": "G1scx7IcW_sV"
   },
   "outputs": [],
   "source": [
    "netD = Discriminator(ngpu).to(device)\n",
    "\n",
    "if device.type == \"cuda\" and ngpu > 1:\n",
    "    netD = nn.DataParallel(netD, list(range(ngpu)))\n",
    "\n",
    "netD.apply(weights_init)\n",
    "\n",
    "print(netD)"
   ]
  },
  {
   "cell_type": "code",
   "execution_count": null,
   "metadata": {
    "colab": {},
    "colab_type": "code",
    "id": "T_VT9RVkKtBO"
   },
   "outputs": [],
   "source": [
    "summary(netG, (100, 1, 1))\n",
    "summary(netD, (1, 28, 28))"
   ]
  },
  {
   "cell_type": "code",
   "execution_count": null,
   "metadata": {
    "colab": {},
    "colab_type": "code",
    "id": "poDda0XTdz4C"
   },
   "outputs": [],
   "source": [
    "criterion = nn.BCELoss()\n",
    "d_optimizer = optim.Adam(netD.parameters(), lr=lr, betas=(beta1, 0.999))\n",
    "g_optimizer = optim.Adam(netG.parameters(), lr=lr, betas=(beta1, 0.999))"
   ]
  },
  {
   "cell_type": "code",
   "execution_count": null,
   "metadata": {
    "colab": {},
    "colab_type": "code",
    "id": "xrVhheC3tBKR"
   },
   "outputs": [],
   "source": [
    "def denorm(x):\n",
    "    out = (x+1)/2\n",
    "    return out\n",
    "\n",
    "def reset_grad():\n",
    "    d_optimizer.zero_grad()\n",
    "    g_optimizer.zero_grad()"
   ]
  },
  {
   "cell_type": "code",
   "execution_count": null,
   "metadata": {
    "colab": {},
    "colab_type": "code",
    "id": "ZUfUdusSBgFf"
   },
   "outputs": [],
   "source": [
    "img_list = []\n",
    "g_losses = []\n",
    "d_losses = []\n",
    "total_step = len(dataloader)\n",
    "\n",
    "print(\"Starting Training Loop...\")\n",
    "for epoch in range(num_epochs):\n",
    "    for i, (images, _) in enumerate(dataloader, 0):\n",
    "        \"\"\"# train D\n",
    "        # train with real images\n",
    "        netD.zero_grad()\n",
    "        real_cpu = data[0].to(device)\n",
    "        print(real_cpu.shape)\n",
    "        b_size = real_cpu.size(0)\n",
    "        label = torch.full((b_size,), real_label, dtype=torch.bool, device=device)\n",
    "        output = netD(real_cpu).view(-1)\n",
    "\n",
    "        errD_real = criterion(output, label)\n",
    "        errD_real.backward()\n",
    "        D_x = output.mean().item()\n",
    "\n",
    "        # train with fake images\n",
    "        noise = torch.randn(b_size, nz, 1, 1, device=device)\n",
    "        fake = netG(noise)\n",
    "        label.fill_(fake_label)\n",
    "        \n",
    "        errD_fake = criterion(output, label)\n",
    "        D_G_z1 = output.mean().item()\n",
    "        errD = errD_real + errD_fake\n",
    "        optimizerD.step()\"\"\"\n",
    "\n",
    "        # train netD\n",
    "        images = images.to(device)\n",
    "\n",
    "        real_labels = torch.ones(batch_size, 1).to(device)\n",
    "        fake_labels = torch.zeros(batch_size, 1).to(device)\n",
    "\n",
    "        outputs = netD(images)\n",
    "        d_loss_real = criterion(outputs, real_labels[:len(outputs)])\n",
    "        real_score = outputs\n",
    "\n",
    "        z = torch.randn(batch_size, nz, 1, 1).to(device)\n",
    "        fake_images = netG(z)\n",
    "        outputs = netD(fake_images)\n",
    "        d_loss_fake = criterion(outputs, fake_labels[:len(outputs)])\n",
    "        fake_score = outputs\n",
    "\n",
    "        d_loss = d_loss_real + d_loss_fake\n",
    "        reset_grad()\n",
    "        d_loss.backward()\n",
    "        d_optimizer.step()\n",
    "\n",
    "\n",
    "        \"\"\"# train G\n",
    "        netG.zero_grad()\n",
    "        label.fill(real_label)\n",
    "        output = netD(fake).view(-1)\n",
    "\n",
    "        errG = criterion(output, label)\n",
    "        errG.backward()\n",
    "        D_G_z2 = output.mean().item()\n",
    "        optimizerG.step()\"\"\"\n",
    "\n",
    "        # train netG\n",
    "        z = torch.randn(batch_size, nz, 1, 1).to(device)\n",
    "        fake_images = netG(z)\n",
    "        outputs = netD(fake_images)\n",
    "\n",
    "        g_loss = criterion(outputs, real_labels[:len(outputs)])\n",
    "        reset_grad()\n",
    "        g_loss.backward()\n",
    "        g_optimizer.step()\n",
    "\n",
    "\n",
    "        \"\"\"# output training stats\n",
    "        if i%200 == 0:\n",
    "            print('[%d/%d][%d/%d]\\tloss_D: %.4f\\tD(x): %.4f\\tD(G(z)): %.4f / %.4f'\n",
    "            % (epoch+1, num_epochs, i, len(dataloader),\n",
    "               errD.item(), errG.item(), D_x, D_G_z1, D_G_z2))\n",
    "        \n",
    "        G_losses.append(errG.item())\n",
    "        D_losses.append(errD.item())\n",
    "\n",
    "        if iters%500 == 0 or (epoch+1==num_epochs and i+1==len(dataloader)):\n",
    "            with torch.no_grad():\n",
    "                fake = netG(fixed_noise).detach().cpu()\n",
    "            img_list.append(vutils.make_grid(fake, padding=2, normalize=True))\n",
    "        iters += 1\"\"\"\n",
    "\n",
    "        # output training data\n",
    "        if (i+1)%200 == 0:\n",
    "            print('Epoch [{}/{}], Step [{}/{}], d_loss: {:.4f}, g_loss: {:.4f}, D(x): {:.2f}, D(G(z)): {:.2f}' \n",
    "                  .format(epoch+1, num_epochs, i+1, total_step, d_loss.item(), g_loss.item(), \n",
    "                          real_score.mean().item(), fake_score.mean().item()))\n",
    "        \n",
    "        g_losses.append(g_loss.item())\n",
    "        d_losses.append(d_loss.item())\n",
    "    \n",
    "    if not os.path.exists(dir_path+'/images'):\n",
    "        os.makedirs(dir_path+'/images')\n",
    "\n",
    "    if (epoch+1) == 1:\n",
    "        vutils.save_image(denorm(images), './gan-02-images/real_images.png')\n",
    "    \n",
    "    vutils.save_image(denorm(fake_images), './gan-02-images/fake_images-{}.png'.format(epoch+1))\n",
    "    img_list.append(vutils.make_grid(fake_images, padding=2, normalize=True))"
   ]
  },
  {
   "cell_type": "code",
   "execution_count": null,
   "metadata": {
    "colab": {},
    "colab_type": "code",
    "id": "MLIKTgz6B8I_"
   },
   "outputs": [],
   "source": [
    "torch.save(netG.state_dict(), 'G.ckpt')\n",
    "torch.save(netD.state_dict(), 'D.ckpt')"
   ]
  },
  {
   "cell_type": "code",
   "execution_count": null,
   "metadata": {
    "colab": {},
    "colab_type": "code",
    "id": "siGnLm3mFdtg"
   },
   "outputs": [],
   "source": []
  }
 ],
 "metadata": {
  "accelerator": "GPU",
  "colab": {
   "authorship_tag": "ABX9TyO1vp4jXTkjr21sqR+FQ4vN",
   "collapsed_sections": [],
   "mount_file_id": "1W-AXLSTN5DVkFcYJ_XNcGY4hmcsCZKLX",
   "name": "practice-gan-02.ipynb",
   "private_outputs": true,
   "provenance": []
  },
  "kernelspec": {
   "display_name": "Python 3",
   "language": "python",
   "name": "python3"
  },
  "language_info": {
   "codemirror_mode": {
    "name": "ipython",
    "version": 3
   },
   "file_extension": ".py",
   "mimetype": "text/x-python",
   "name": "python",
   "nbconvert_exporter": "python",
   "pygments_lexer": "ipython3",
   "version": "3.7.7"
  }
 },
 "nbformat": 4,
 "nbformat_minor": 1
}
