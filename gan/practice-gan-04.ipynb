{
 "cells": [
  {
   "cell_type": "markdown",
   "metadata": {
    "colab_type": "text",
    "id": "u5Sat8XkrcGN"
   },
   "source": [
    "LSGAN with MNIST data."
   ]
  },
  {
   "cell_type": "code",
   "execution_count": null,
   "metadata": {
    "colab": {},
    "colab_type": "code",
    "id": "7myCfSujrZ-s"
   },
   "outputs": [],
   "source": [
    "%matplotlib inline\n",
    "import argparse\n",
    "import os\n",
    "import random\n",
    "import torch\n",
    "import torch.nn as nn\n",
    "import torch.nn.parallel\n",
    "import torch.backends.cudnn as cudnn\n",
    "import torch.optim as optim\n",
    "import torch.utils.data\n",
    "import torchvision.datasets as dset\n",
    "import torchvision.transforms as transforms\n",
    "import torchvision.utils as vutils\n",
    "from torchsummary import summary\n",
    "import numpy as np\n",
    "import matplotlib.pyplot as plt\n",
    "import matplotlib.animation as animation\n",
    "from IPython.display import HTML\n",
    "\n",
    "# Set random seed for reproducibility\n",
    "manualSeed = 999\n",
    "# manualSeed = random.randint(1, 10000) # use if you want new results\n",
    "print(\"Random Seed: \", manualSeed)\n",
    "random.seed(manualSeed)\n",
    "torch.manual_seed(manualSeed)"
   ]
  },
  {
   "cell_type": "code",
   "execution_count": null,
   "metadata": {
    "colab": {},
    "colab_type": "code",
    "id": "CvFu1X5erkte"
   },
   "outputs": [],
   "source": [
    "# directories\n",
    "data_root = os.path.join(os.getcwd(), 'data')\n",
    "\n",
    "sample_dir = os.path.join(os.getcwd(), 'gan-04-images')\n",
    "if not os.path.exists(sample_dir):\n",
    "    os.makedirs(sample_dir)\n",
    "\n",
    "checkpoint_dir = os.path.join(os.getcwd(), 'gan-04-checkopints')\n",
    "if not os.path.exists(checkpoint_dir):\n",
    "    os.makedirs(checkpoint_dir)\n",
    "\n",
    "# hyperparameters\n",
    "workers = 2\n",
    "ngpu = 1\n",
    "batch_size = 128\n",
    "\n",
    "image_size = 64\n",
    "nc = 1\n",
    "nz = 100\n",
    "ngf = 64\n",
    "ndf = 64\n",
    "\n",
    "num_epochs = 100\n",
    "lr = 0.0002\n",
    "beta1 = 0.5"
   ]
  },
  {
   "cell_type": "code",
   "execution_count": null,
   "metadata": {
    "colab": {},
    "colab_type": "code",
    "id": "X3GCZqrtrmmK"
   },
   "outputs": [],
   "source": [
    "transform = transforms.Compose([\n",
    "                                transforms.ToTensor(),\n",
    "                                transforms.Normalize([0.5], [0.5])\n",
    "])\n",
    "\n",
    "dataset = dset.MNIST(root=data_root,\n",
    "                     train=True,\n",
    "                     transform=transform,\n",
    "                     download=True\n",
    "                     )\n",
    "\n",
    "dataloader = torch.utils.data.DataLoader(dataset=dataset,\n",
    "                                         batch_size=batch_size,\n",
    "                                         shuffle=True,\n",
    "                                         num_workers=workers)\n",
    "\n",
    "device = torch.device(\"cuda:0\" if torch.cuda.is_available() and ngpu > 0 else \"cpu\")\n",
    "\n",
    "print(len(dataloader))\n",
    "\n",
    "real_batch = next(iter(dataloader))\n",
    "plt.figure(figsize=(8, 8))\n",
    "plt.axis(\"off\")\n",
    "plt.title(\"Training Images\")\n",
    "plt.imshow(np.transpose(vutils.make_grid(real_batch[0].to(device)[:64],\n",
    "                                         padding=2,\n",
    "                                         normalize=True).cpu(),\n",
    "                                         (1, 2, 0)))"
   ]
  },
  {
   "cell_type": "code",
   "execution_count": null,
   "metadata": {
    "colab": {},
    "colab_type": "code",
    "id": "ogmcj9yWsBkc"
   },
   "outputs": [],
   "source": [
    "def weights_init(m):\n",
    "    classname = m.__class__.__name__\n",
    "    if classname.find('Conv') != -1:\n",
    "        nn.init.normal_(m.weight.data, 0.0, 0.02)\n",
    "    elif classname.find('BatchNorm') != -1:\n",
    "        nn.init.normal_(m.weight.data, 1.0, 0.02)\n",
    "        nn.init.constant_(m.bias.data, 0)"
   ]
  },
  {
   "cell_type": "code",
   "execution_count": null,
   "metadata": {
    "colab": {},
    "colab_type": "code",
    "id": "OA20GBtprx7G"
   },
   "outputs": [],
   "source": [
    "class Generator(nn.Module):\n",
    "    def __init__(self, ngpu):\n",
    "        super(Generator, self).__init__()\n",
    "        self.ngpu = ngpu\n",
    "        self.main = nn.Sequential(  # nz\n",
    "            nn.ConvTranspose2d(nz, ngf*4, 4, 1, 0, bias=False),  # ngf*4@4*4\n",
    "            nn.BatchNorm2d(ngf*4),\n",
    "            nn.ReLU(True),\n",
    "\n",
    "            nn.ConvTranspose2d(ngf*4, ngf*2, 3, 2, 1, bias=False),  # ngf*2@7*7\n",
    "            nn.BatchNorm2d(ngf*2),\n",
    "            nn.ReLU(True),\n",
    "\n",
    "            nn.ConvTranspose2d(ngf*2, ngf, 4, 2, 1, bias=False),  # ngf@14*14\n",
    "            nn.BatchNorm2d(ngf),\n",
    "            nn.ReLU(True),\n",
    "\n",
    "            nn.ConvTranspose2d(ngf, nc, 4, 2, 1, bias=False),  # nc@28*28\n",
    "            nn.Tanh()  # [-1, 1]\n",
    "        )\n",
    "\n",
    "    def forward(self, input):\n",
    "        return self.main(input)"
   ]
  },
  {
   "cell_type": "code",
   "execution_count": null,
   "metadata": {
    "colab": {},
    "colab_type": "code",
    "id": "2y9QdEkUr82J"
   },
   "outputs": [],
   "source": [
    "netG = Generator(ngpu).to(device)\n",
    "\n",
    "if device.type == \"cuda\" and ngpu > 1:\n",
    "    netG = nn.DataParallel(netG, list(range(ngpu)))\n",
    "\n",
    "netG.apply(weights_init)\n",
    "print(netG)"
   ]
  },
  {
   "cell_type": "code",
   "execution_count": null,
   "metadata": {
    "colab": {},
    "colab_type": "code",
    "id": "VUBhauyDr-oz"
   },
   "outputs": [],
   "source": [
    "class Discriminator(nn.Module):\n",
    "    def __init__(self, ngpu):\n",
    "        super(Discriminator, self).__init__()\n",
    "        self.ngpu = ngpu\n",
    "        self.main = nn.Sequential(  # nc@28*28\n",
    "            nn.Conv2d(nc, ndf, 4, 2, 1, bias=False),  # ndf@14*14\n",
    "            nn.LeakyReLU(0.2, inplace=True),\n",
    "\n",
    "            nn.Conv2d(ndf, ndf*2, 4, 2, 1, bias=False),  # ndf*2@7*7\n",
    "            nn.BatchNorm2d(ndf*2),\n",
    "            nn.LeakyReLU(0.2, inplace=True),\n",
    "\n",
    "            nn.Conv2d(ndf*2, 1, 4, 1, 0, bias=False),  # 1@4*4\n",
    "            nn.Flatten(1, -1),\n",
    "            nn.Linear(16, 1),\n",
    "            nn.Sigmoid()\n",
    "        )\n",
    "    \n",
    "    def forward(self, input):\n",
    "        return self.main(input)"
   ]
  },
  {
   "cell_type": "code",
   "execution_count": null,
   "metadata": {
    "colab": {},
    "colab_type": "code",
    "id": "t5amnlGVsEhE"
   },
   "outputs": [],
   "source": [
    "netD = Discriminator(ngpu).to(device)\n",
    "\n",
    "if device.type == \"cuda\" and ngpu > 1:\n",
    "    netD = nn.DataParallel(netD, list(range(ngpu)))\n",
    "\n",
    "netD.apply(weights_init)\n",
    "\n",
    "print(netD)"
   ]
  },
  {
   "cell_type": "code",
   "execution_count": null,
   "metadata": {
    "colab": {},
    "colab_type": "code",
    "id": "QvUCF0JBsG7l"
   },
   "outputs": [],
   "source": [
    "summary(netG, (100, 1, 1))\n",
    "summary(netD, (1, 28, 28))"
   ]
  },
  {
   "cell_type": "code",
   "execution_count": null,
   "metadata": {
    "colab": {},
    "colab_type": "code",
    "id": "KougRm_VsIbJ"
   },
   "outputs": [],
   "source": [
    "# criterion = nn.BCELoss()\n",
    "d_optimizer = optim.Adam(netD.parameters(), lr=lr, betas=(beta1, 0.999))\n",
    "g_optimizer = optim.Adam(netG.parameters(), lr=lr, betas=(beta1, 0.999))"
   ]
  },
  {
   "cell_type": "code",
   "execution_count": null,
   "metadata": {
    "colab": {},
    "colab_type": "code",
    "id": "q-4Zly_WsJkZ"
   },
   "outputs": [],
   "source": [
    "def denorm(x):\n",
    "    out = (x+1)/2\n",
    "    return out"
   ]
  },
  {
   "cell_type": "code",
   "execution_count": null,
   "metadata": {
    "colab": {},
    "colab_type": "code",
    "id": "U_dJR9mssMhz"
   },
   "outputs": [],
   "source": [
    "img_list = []\n",
    "g_losses = []\n",
    "d_losses = []\n",
    "total_step = len(dataloader)\n",
    "\n",
    "print(\"Starting Training Loop...\")\n",
    "for epoch in range(num_epochs):\n",
    "    for i, (images, _) in enumerate(dataloader, 0):\n",
    "        # train netD\n",
    "        netD.zero_grad()\n",
    "\n",
    "        images = images.to(device)\n",
    "\n",
    "        real_labels = torch.ones(batch_size, 1).to(device)\n",
    "        fake_labels = torch.zeros(batch_size, 1).to(device)\n",
    "\n",
    "        outputs = netD(images)\n",
    "        # d_loss_real = criterion(outputs, real_labels[:len(outputs)])\n",
    "        d_loss_real = torch.mean((outputs-real_labels[:len(outputs)])**2)\n",
    "        real_score = outputs\n",
    "\n",
    "        z = torch.randn(batch_size, nz, 1, 1).to(device)\n",
    "        fake_images = netG(z)\n",
    "        outputs = netD(fake_images)\n",
    "        # d_loss_fake = criterion(outputs, fake_labels[:len(outputs)])\n",
    "        d_loss_fake = torch.mean(outputs**2)\n",
    "        fake_score = outputs\n",
    "\n",
    "        d_loss = d_loss_real + d_loss_fake\n",
    "        d_loss.backward()\n",
    "        d_optimizer.step()\n",
    "\n",
    "        # train netG\n",
    "        netG.zero_grad()\n",
    "\n",
    "        z = torch.randn(batch_size, nz, 1, 1).to(device)\n",
    "        fake_images = netG(z)\n",
    "        outputs = netD(fake_images)\n",
    "\n",
    "        # g_loss = criterion(outputs, real_labels[:len(outputs)])\n",
    "        g_loss = torch.mean((outputs-real_labels[:len(outputs)])**2)\n",
    "        g_loss.backward()\n",
    "        g_optimizer.step()\n",
    "\n",
    "        # output training data\n",
    "        if (i+1) == total_step:\n",
    "            print('Epoch [{}/{}], Step [{}/{}], d_loss: {:.4f}, g_loss: {:.4f}, D(x): {:.2f}, D(G(z)): {:.2f}' \n",
    "                  .format(epoch+1, num_epochs, i+1, total_step, d_loss.item(), g_loss.item(), \n",
    "                          real_score.mean().item(), fake_score.mean().item()))\n",
    "        \n",
    "        g_losses.append(g_loss.item())\n",
    "        d_losses.append(d_loss.item())\n",
    "\n",
    "    if (epoch+1) == 1:\n",
    "        vutils.save_image(denorm(images), os.path.join(sample_dir, 'real_images.png'))\n",
    "    \n",
    "    vutils.save_image(denorm(fake_images), os.path.join(sample_dir, 'fake_images-{}.png').format(epoch+1))\n",
    "    img_list.append(vutils.make_grid(fake_images, padding=2, normalize=True))"
   ]
  },
  {
   "cell_type": "code",
   "execution_count": null,
   "metadata": {
    "colab": {},
    "colab_type": "code",
    "id": "x3rf6savsQIb"
   },
   "outputs": [],
   "source": [
    "torch.save(netG.state_dict(), os.path.join(checkpoint_dir, 'G.ckpt'))\n",
    "torch.save(netD.state_dict(), os.path.join(checkpoint_dir, 'D.ckpt'))"
   ]
  },
  {
   "cell_type": "code",
   "execution_count": null,
   "metadata": {
    "colab": {},
    "colab_type": "code",
    "id": "xRTIeJpdsngc"
   },
   "outputs": [],
   "source": []
  }
 ],
 "metadata": {
  "accelerator": "GPU",
  "colab": {
   "authorship_tag": "ABX9TyNf8TaaWuHEtagYOkGMFCVM",
   "collapsed_sections": [],
   "mount_file_id": "1nqyCguJgAwXlaflC3i-eRDQ7ph1n-_It",
   "name": "practice-gan-04.ipynb",
   "private_outputs": true,
   "provenance": []
  },
  "kernelspec": {
   "display_name": "Python 3",
   "language": "python",
   "name": "python3"
  },
  "language_info": {
   "codemirror_mode": {
    "name": "ipython",
    "version": 3
   },
   "file_extension": ".py",
   "mimetype": "text/x-python",
   "name": "python",
   "nbconvert_exporter": "python",
   "pygments_lexer": "ipython3",
   "version": "3.7.7"
  }
 },
 "nbformat": 4,
 "nbformat_minor": 1
}
