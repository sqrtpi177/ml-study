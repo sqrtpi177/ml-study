{
 "cells": [
  {
   "cell_type": "markdown",
   "metadata": {
    "colab_type": "text",
    "id": "OLeCcekNk1N9"
   },
   "source": [
    "Single Core"
   ]
  },
  {
   "cell_type": "code",
   "execution_count": null,
   "metadata": {
    "colab": {},
    "colab_type": "code",
    "id": "_9nFXELHjHaF"
   },
   "outputs": [],
   "source": [
    "!pip install cloud-tpu-client==0.10 https://storage.googleapis.com/tpu-pytorch/wheels/torch_xla-1.6-cp36-cp36m-linux_x86_64.whl"
   ]
  },
  {
   "cell_type": "code",
   "execution_count": null,
   "metadata": {
    "colab": {},
    "colab_type": "code",
    "id": "vjZQf3HxjRGl"
   },
   "outputs": [],
   "source": [
    "import os\n",
    "import torch\n",
    "import torchvision\n",
    "import torchvision.datasets as datasets"
   ]
  },
  {
   "cell_type": "code",
   "execution_count": null,
   "metadata": {
    "colab": {},
    "colab_type": "code",
    "id": "4o7h7hbjjRaB"
   },
   "outputs": [],
   "source": [
    "class_map = {\n",
    "0 : \"t-shirt\",\n",
    "1 : \"trouser\",\n",
    "2 : \"pullover\",\n",
    "3 : \"dress\",\n",
    "4 : \"coat\",\n",
    "5 : \"sandal\",\n",
    "6 : \"shirt\",\n",
    "7 : \"sneaker\",\n",
    "8 : \"bag\",\n",
    "9 : \"ankle boot\"\n",
    "}\n",
    "\n",
    "raw_dataset = datasets.FashionMNIST(\n",
    "    os.path.join(\"/tmp/fashionmnist\"),\n",
    "    train=True,\n",
    "    download=True\n",
    ")"
   ]
  },
  {
   "cell_type": "code",
   "execution_count": null,
   "metadata": {
    "colab": {},
    "colab_type": "code",
    "id": "3fg9XDNijT9U"
   },
   "outputs": [],
   "source": [
    "img_index = 0\n",
    "tup = raw_dataset[img_index]\n",
    "display(tup[0].resize((224, 224)))\n",
    "print(class_map[tup[1]])"
   ]
  },
  {
   "cell_type": "code",
   "execution_count": null,
   "metadata": {
    "colab": {},
    "colab_type": "code",
    "id": "WJjBJyDQjXYC"
   },
   "outputs": [],
   "source": [
    "import torch_xla\n",
    "import torch_xla.core.xla_model as xm"
   ]
  },
  {
   "cell_type": "code",
   "execution_count": null,
   "metadata": {
    "colab": {},
    "colab_type": "code",
    "id": "jVcgxwzrjZSm"
   },
   "outputs": [],
   "source": [
    "net = torchvision.models.alexnet(num_classes=10)\n",
    "\n",
    "device = xm.xla_device()\n",
    "net = net.to(device)"
   ]
  },
  {
   "cell_type": "code",
   "execution_count": null,
   "metadata": {
    "colab": {},
    "colab_type": "code",
    "id": "E4fdQ7DyjcFG"
   },
   "outputs": [],
   "source": [
    "import torchvision.transforms as transforms\n",
    "\n",
    "# See https://pytorch.org/docs/stable/torchvision/models.html for normalization\n",
    "# Pre-trained TorchVision models expect RGB (3 x H x W) images\n",
    "# H and W should be >= 224\n",
    "# Loaded into [0, 1] and normalized as follows:\n",
    "normalize = transforms.Normalize(mean=[0.485, 0.456, 0.406],\n",
    "                                 std=[0.229, 0.224, 0.225])\n",
    "to_rgb = transforms.Lambda(lambda image: image.convert('RGB'))\n",
    "resize = transforms.Resize((224, 224))\n",
    "my_transform = transforms.Compose([resize, to_rgb, transforms.ToTensor(), normalize])"
   ]
  },
  {
   "cell_type": "code",
   "execution_count": null,
   "metadata": {
    "colab": {},
    "colab_type": "code",
    "id": "Vjr8DN-2jf9F"
   },
   "outputs": [],
   "source": [
    "train_dataset = datasets.FashionMNIST(\n",
    "  os.path.join(\"/tmp/fashionmnist\"),\n",
    "  train=True,\n",
    "  download=True,\n",
    "  transform=my_transform)\n",
    "\n",
    "test_dataset = datasets.FashionMNIST(\n",
    "  os.path.join(\"/tmp/fashionmnist\"),\n",
    "  train=False,\n",
    "  download=True,\n",
    "  transform=my_transform)"
   ]
  },
  {
   "cell_type": "code",
   "execution_count": null,
   "metadata": {
    "colab": {},
    "colab_type": "code",
    "id": "ABQjAGj-jhxs"
   },
   "outputs": [],
   "source": [
    "train_sampler = torch.utils.data.RandomSampler(train_dataset)\n",
    "test_sampler = torch.utils.data.RandomSampler(test_dataset)"
   ]
  },
  {
   "cell_type": "code",
   "execution_count": null,
   "metadata": {
    "colab": {},
    "colab_type": "code",
    "id": "1z2Er4n6jiMC"
   },
   "outputs": [],
   "source": [
    "batch_size = 8\n",
    "\n",
    "train_loader = torch.utils.data.DataLoader(\n",
    "  train_dataset,\n",
    "  batch_size=batch_size,\n",
    "  sampler=train_sampler)\n",
    "\n",
    "test_loader = torch.utils.data.DataLoader(\n",
    "  test_dataset,\n",
    "  batch_size=batch_size,\n",
    "  sampler=test_sampler)"
   ]
  },
  {
   "cell_type": "code",
   "execution_count": null,
   "metadata": {
    "colab": {},
    "colab_type": "code",
    "id": "lpbrJF2rjj2g"
   },
   "outputs": [],
   "source": [
    "import time\n",
    "from google.colab import widgets\n",
    "\n",
    "t_to_img = transforms.Compose([transforms.ToPILImage(), transforms.Grayscale()])\n",
    "\n",
    "# Runs the given net on the batches provided by the test_loader\n",
    "# Records the number of correct predictions (guesses) and \n",
    "# prints the percentage of correct guesses on the dataset, plus a \n",
    "# sample batch.\n",
    "def eval_network(net, test_loader):\n",
    "  start_time = time.time()\n",
    "  num_correct = 0\n",
    "  total_guesses = 0\n",
    "\n",
    "  # Sets eval and no grad context for evaluation\n",
    "  net.eval()\n",
    "  with torch.no_grad():\n",
    "    for data, targets in iter(test_loader):\n",
    "      # Sends data and targets to device\n",
    "      data = data.to(device)\n",
    "      targets = targets.to(device)\n",
    "\n",
    "      # Acquires the network's best guesses at each class\n",
    "      results = net(data)\n",
    "      best_guesses = torch.argmax(results, 1)\n",
    "\n",
    "      # Updates number of correct and total guesses\n",
    "      num_correct += torch.eq(targets, best_guesses).sum().item()\n",
    "      total_guesses += batch_size\n",
    "    \n",
    "    # Prints output\n",
    "    elapsed_time = time.time() - start_time\n",
    "    print(\"Correctly guessed \", num_correct/total_guesses*100, \"% of the dataset\")\n",
    "    print(\"Evaluated in \", elapsed_time, \" seconds\")\n",
    "    print(\"Sample batch:\")\n",
    "    \n",
    "    # Uses last batch as sample\n",
    "    grid = widgets.Grid(2, 4)\n",
    "    row = 0\n",
    "    col = 0\n",
    "    for ex in zip(data, targets, best_guesses):\n",
    "      data = ex[0].cpu()\n",
    "      target = class_map[ex[1].item()]\n",
    "      guess = class_map[ex[2].item()]\n",
    "\n",
    "      img = t_to_img(data)\n",
    "\n",
    "      with grid.output_to(row, col):\n",
    "        display(img)\n",
    "        print(\"Target: \", target)\n",
    "        print(\"Guess: \", guess)\n",
    "\n",
    "        # Updates grid location\n",
    "        if col == 3:\n",
    "          row += 1\n",
    "          col = 0\n",
    "        else:\n",
    "          col += 1"
   ]
  },
  {
   "cell_type": "code",
   "execution_count": null,
   "metadata": {
    "colab": {},
    "colab_type": "code",
    "id": "A7-JzwKkjlqU"
   },
   "outputs": [],
   "source": [
    "eval_network(net, test_loader)"
   ]
  },
  {
   "cell_type": "code",
   "execution_count": null,
   "metadata": {
    "colab": {},
    "colab_type": "code",
    "id": "_4qWxoxQjngs"
   },
   "outputs": [],
   "source": [
    "# Note: this will take 5-10 minutes to run.\n",
    "num_epochs = 1\n",
    "loss_fn = torch.nn.CrossEntropyLoss()\n",
    "optimizer = torch.optim.Adam(net.parameters())\n",
    "\n",
    "# Ensures network is in train mode\n",
    "net.train()\n",
    "\n",
    "start_time = time.time()\n",
    "for epoch in range(num_epochs):\n",
    "  for data, targets in iter(train_loader):\n",
    "    # Sends data and targets to device\n",
    "    data = data.to(device)\n",
    "    targets = targets.to(device)\n",
    "\n",
    "    # Acquires the network's best guesses at each class\n",
    "    results = net(data)\n",
    "\n",
    "    # Computes loss\n",
    "    loss = loss_fn(results, targets)\n",
    "\n",
    "    # Updates model\n",
    "    optimizer.zero_grad()\n",
    "    loss.backward()\n",
    "    xm.optimizer_step(optimizer, barrier=True)  # Note: Cloud TPU-specific code!\n",
    "\n",
    "elapsed_time = time.time() - start_time\n",
    "print (\"Spent \", elapsed_time, \" seconds training for \", num_epochs, \" epoch(s) on a single core.\")"
   ]
  },
  {
   "cell_type": "code",
   "execution_count": null,
   "metadata": {
    "colab": {},
    "colab_type": "code",
    "id": "maq0z8r3jo2w"
   },
   "outputs": [],
   "source": [
    "eval_network(net, test_loader)"
   ]
  },
  {
   "cell_type": "code",
   "execution_count": null,
   "metadata": {
    "colab": {},
    "colab_type": "code",
    "id": "SHIBBhk1jqRk"
   },
   "outputs": [],
   "source": []
  }
 ],
 "metadata": {
  "accelerator": "TPU",
  "colab": {
   "authorship_tag": "ABX9TyPi64P2XtdCAJGruyhRHeSN",
   "collapsed_sections": [],
   "name": "practice-tpu-02.ipynb",
   "private_outputs": true,
   "provenance": []
  },
  "kernelspec": {
   "display_name": "Python 3",
   "language": "python",
   "name": "python3"
  },
  "language_info": {
   "codemirror_mode": {
    "name": "ipython",
    "version": 3
   },
   "file_extension": ".py",
   "mimetype": "text/x-python",
   "name": "python",
   "nbconvert_exporter": "python",
   "pygments_lexer": "ipython3",
   "version": "3.7.7"
  }
 },
 "nbformat": 4,
 "nbformat_minor": 1
}
