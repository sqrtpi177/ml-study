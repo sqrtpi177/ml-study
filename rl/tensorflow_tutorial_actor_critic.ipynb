{
  "nbformat": 4,
  "nbformat_minor": 0,
  "metadata": {
    "colab": {
      "name": "tensorflow-tutorial-actor-critic.ipynb",
      "provenance": []
    },
    "kernelspec": {
      "name": "python3",
      "display_name": "Python 3"
    },
    "language_info": {
      "name": "python"
    }
  },
  "cells": [
    {
      "cell_type": "markdown",
      "metadata": {
        "id": "IAqzVAyaxSE1"
      },
      "source": [
        "# Actor-Critic 방법으로 CartPole의 문제 풀기\n",
        "\n",
        "[TensorFlow 공식 튜토리얼](https://www.tensorflow.org/tutorials/reinforcement_learning/actor_critic)을 참고했습니다."
      ]
    },
    {
      "cell_type": "markdown",
      "metadata": {
        "id": "BPR1ARuNyw5w"
      },
      "source": [
        "## 설정"
      ]
    },
    {
      "cell_type": "code",
      "metadata": {
        "id": "nc4w_p1bzSyT"
      },
      "source": [
        "!pip install -q gym"
      ],
      "execution_count": null,
      "outputs": []
    },
    {
      "cell_type": "code",
      "metadata": {
        "id": "ArpLSBlOzWW6"
      },
      "source": [
        "%%bash\n",
        "# 시각화를 위한 추가 패키지 설치\n",
        "sudo apt-get install -y xvfb python-opengl > /dev/null 2>&1  # 리눅스 GUI 관련 패키지\n",
        "pip install -q pyvirtualdisplay > /dev/null 2>&1  # 가상 디스플레이\n",
        "pip install -q git+https://github.com/tensorflow/docs > /dev/null 2>&1  # 이미지 표시"
      ],
      "execution_count": null,
      "outputs": []
    },
    {
      "cell_type": "code",
      "metadata": {
        "id": "o74ovONl0DCV"
      },
      "source": [
        "import collections\n",
        "import gym\n",
        "import numpy as np\n",
        "import tensorflow as tf\n",
        "import tqdm\n",
        "\n",
        "import matplotlib.pyplot as plt\n",
        "from tensorflow.keras import layers\n",
        "from typing import Any, List, Sequence, Tuple"
      ],
      "execution_count": null,
      "outputs": []
    },
    {
      "cell_type": "code",
      "metadata": {
        "id": "0RKIh45d0qiF"
      },
      "source": [
        "# 환경 E\n",
        "env = gym.make('CartPole-v0')\n",
        "\n",
        "# 랜덤 시드 설정\n",
        "seed = 42\n",
        "env.seed(seed)\n",
        "tf.random.set_seed(seed)\n",
        "np.random.seed(seed)\n",
        "\n",
        "# 나눗셈 연산 안정화를 위한 작은 엡실론 값\n",
        "eps = np.finfo(np.float32).eps.item()"
      ],
      "execution_count": null,
      "outputs": []
    },
    {
      "cell_type": "markdown",
      "metadata": {
        "id": "WOxuc8Jq6_MI"
      },
      "source": [
        "## 모델"
      ]
    },
    {
      "cell_type": "code",
      "metadata": {
        "id": "SwhXe5Pm1NYL"
      },
      "source": [
        "class ActorCritic(tf.keras.Model):\n",
        "    \"\"\"융합된 actor-critic 네트워크.\"\"\"\n",
        "    def __init__(\n",
        "            self,\n",
        "            num_actions: int,\n",
        "            num_hidden_units: int):\n",
        "        \"\"\"초기화.\"\"\"\n",
        "        super().__init__()\n",
        "\n",
        "        self.common = layers.Dense(num_hidden_units, activation='relu')\n",
        "        self.actor = layers.Dense(num_actions)\n",
        "        self.critic = layers.Dense(1)\n",
        "\n",
        "    def call(self, inputs: tf.Tensor) -> Tuple[tf.Tensor, tf.Tensor]:\n",
        "        x = self.common(inputs)\n",
        "        return self.actor(x), self.critic(x)"
      ],
      "execution_count": null,
      "outputs": []
    },
    {
      "cell_type": "code",
      "metadata": {
        "id": "7OVmwYJqMQxV"
      },
      "source": [
        "num_actions = env.action_space.n  # 2\n",
        "num_hidden_units = 128\n",
        "\n",
        "model = ActorCritic(num_actions, num_hidden_units)"
      ],
      "execution_count": null,
      "outputs": []
    },
    {
      "cell_type": "markdown",
      "metadata": {
        "id": "dipgoFaeYM-K"
      },
      "source": [
        "## 훈련"
      ]
    },
    {
      "cell_type": "markdown",
      "metadata": {
        "id": "UzfQ41-37Ky-"
      },
      "source": [
        "### 1. 훈련 데이터 수집하기"
      ]
    },
    {
      "cell_type": "code",
      "metadata": {
        "id": "iZfiUDMAYOTy"
      },
      "source": [
        "# OpenAI Gym의 `env.step` 호출을 TensorFlow 함수의 연산으로 감싸기\n",
        "# 호출 가능한 TensorFlow 그래프에 포함될 수 있게 함.\n",
        "\n",
        "def env_step(action: np.ndarray) -> Tuple[np.ndarray, np.ndarray, np.ndarray]:\n",
        "    \"\"\"행동에 대해 상태, 보상, done 플래그를 반환.\"\"\"\n",
        "\n",
        "    state, reward, done, _ = env.step(action)  # R = E[R_t+1|S_t=s, A_t=a]\n",
        "    return (state.astype(np.float32),\n",
        "            np.array(reward, np.int32),\n",
        "            np.array(done, np.int32))\n",
        "\n",
        "\n",
        "def tf_env_step(action: tf.Tensor) -> List[tf.Tensor]:\n",
        "    return tf.numpy_function(env_step, [action],\n",
        "                             [tf.float32, tf.int32, tf.int32])"
      ],
      "execution_count": null,
      "outputs": []
    },
    {
      "cell_type": "code",
      "metadata": {
        "id": "5RqheYvSZ2SM"
      },
      "source": [
        "def run_episode(\n",
        "        initial_state: tf.Tensor,\n",
        "        model: tf.keras.Model,\n",
        "        max_steps: int) -> List[tf.Tensor]:\n",
        "    \"\"\"데이터를 모으기 위해 한 에피소드를 진행.\"\"\"\n",
        "\n",
        "    action_probs = tf.TensorArray(dtype=tf.float32, size=0, dynamic_size=True)\n",
        "    values = tf.TensorArray(dtype=tf.float32, size=0, dynamic_size=True)\n",
        "    rewards = tf.TensorArray(dtype=tf.int32, size=0, dynamic_size=True)\n",
        "\n",
        "    initial_state_shape = initial_state.shape\n",
        "    state = initial_state\n",
        "\n",
        "    # 타임스텝 t\n",
        "    for t in tf.range(max_steps):\n",
        "        # 상태를 배치가 있는 텐서로 변환 (배치 크기 = 1)\n",
        "        state = tf.expand_dims(state, 0)  # S_t\n",
        "\n",
        "        # 모델을 실행하고 행동 확률과 비평 값 받아오기\n",
        "        action_logits_t, value = model(state)\n",
        "\n",
        "        # 행동 확률 분포애서 다음 행동을 샘플\n",
        "        action = tf.random.categorical(action_logits_t, 1)[0, 0]  # A_t\n",
        "        action_probs_t = tf.nn.softmax(action_logits_t)\n",
        "\n",
        "        # 비평 값을 저장\n",
        "        values = values.write(t, tf.squeeze(value))  # V(s)\n",
        "        # 선택한 행동의 로그 확률 값을 저장\n",
        "        action_probs = action_probs.write(t, action_probs_t[0, action])\n",
        "\n",
        "        # 다음 상태와 보상을 얻기 위해 환경에 행동을 적용\n",
        "        state, reward, done = tf_env_step(action)  # S_t+1, R_t+1\n",
        "        state.set_shape(initial_state_shape)\n",
        "\n",
        "        # 보상을 저장\n",
        "        rewards = rewards.write(t, reward)\n",
        "\n",
        "        if tf.cast(done, tf.bool):\n",
        "            break\n",
        "\n",
        "    # tf.TensorArray -> tf.Tensor\n",
        "    action_probs = action_probs.stack()\n",
        "    values = values.stack()\n",
        "    rewards = rewards.stack()\n",
        "\n",
        "    return action_probs, values, rewards"
      ],
      "execution_count": null,
      "outputs": []
    },
    {
      "cell_type": "markdown",
      "metadata": {
        "id": "o-t73Q3Q7Sce"
      },
      "source": [
        "### 2. 예상 이익 계산하기"
      ]
    },
    {
      "cell_type": "code",
      "metadata": {
        "id": "hzODWX9Bdkpa"
      },
      "source": [
        "def get_expected_return(\n",
        "        rewards: tf.Tensor,\n",
        "        gamma: float,\n",
        "        standardize: bool = True) -> tf.Tensor:\n",
        "    \"\"\"각 타임 스템에서 예상 이익을 계산.\"\"\"\n",
        "\n",
        "    n = tf.shape(rewards)[0]\n",
        "    returns = tf.TensorArray(dtype=tf.float32, size=n)\n",
        "\n",
        "    # `rewards`의 끝에서 시작\n",
        "    # 보상의 합을 `returns` 배열에 누적\n",
        "    rewards = tf.cast(rewards[::-1], dtype=tf.float32)\n",
        "    discounted_sum = tf.constant(0.0)\n",
        "    discounted_sum_shape = discounted_sum.shape\n",
        "    for i in range(n):\n",
        "        reward = rewards[i]\n",
        "        discounted_sum = reward + gamma*discounted_sum\n",
        "        discounted_sum.set_shape(discounted_sum_shape)\n",
        "        returns = returns.write(i, discounted_sum)\n",
        "    returns = returns.stack()[::-1]\n",
        "\n",
        "    if standardize:\n",
        "        returns = ((returns-tf.math.reduce_mean(returns)) /\n",
        "                   (tf.math.reduce_std(returns)+eps))\n",
        "        \n",
        "    return returns"
      ],
      "execution_count": null,
      "outputs": []
    },
    {
      "cell_type": "markdown",
      "metadata": {
        "id": "Mt5YzVnWiSlH"
      },
      "source": [
        "### 3. Actor-Critic 손실"
      ]
    },
    {
      "cell_type": "code",
      "metadata": {
        "id": "kZq-bCz3fgC6"
      },
      "source": [
        "huber_loss = tf.keras.losses.Huber(reduction=tf.keras.losses.Reduction.SUM)\n",
        "\n",
        "def compute_loss(\n",
        "        action_probs: tf.Tensor,\n",
        "        values: tf.Tensor,\n",
        "        returns: tf.Tensor) -> tf.Tensor:\n",
        "    \"\"\"혼합된 actor-critic 손실을 계산.\"\"\"\n",
        "\n",
        "    advantage = returns - values\n",
        "\n",
        "    action_log_probs = tf.math.log(action_probs)\n",
        "    actor_loss = (-1) * tf.math.reduce_sum(action_log_probs * advantage)  # L_actor\n",
        "\n",
        "    critic_loss = huber_loss(values, returns)  # L_critic\n",
        "\n",
        "    return actor_loss + critic_loss  # L = L_actor + L_critic"
      ],
      "execution_count": null,
      "outputs": []
    },
    {
      "cell_type": "markdown",
      "metadata": {
        "id": "Ebkrr36Mibv9"
      },
      "source": [
        "### 4. 매개변수를 업데이트하기 위한 훈련 단계 정의하기"
      ]
    },
    {
      "cell_type": "code",
      "metadata": {
        "id": "JpKxi26eicFJ"
      },
      "source": [
        "optimizer = tf.keras.optimizers.Adam(learning_rate=0.01)\n",
        "\n",
        "\n",
        "@tf.function\n",
        "def train_step(\n",
        "        initial_state: tf.Tensor,\n",
        "        model: tf.keras.Model,\n",
        "        optimizer: tf.keras.optimizers.Optimizer,\n",
        "        gamma: float,\n",
        "        max_steps_per_episode: int) -> tf.Tensor:\n",
        "    \"\"\"모델 학습 스텝을 실행.\"\"\"\n",
        "\n",
        "    with tf.GradientTape() as tape:\n",
        "        # 한 에피소드 동안 모델을 실행해 학습 데이터 모으기\n",
        "        action_probs, values, rewards = run_episode(\n",
        "            initial_state, model, max_steps_per_episode)\n",
        "        \n",
        "        # 예상된 반환값 계산\n",
        "        returns = get_expected_return(rewards, gamma)\n",
        "\n",
        "        # 학습 데이터를 적절한 TF 텐서 모양으로 변환\n",
        "        action_probs, values, returns = [\n",
        "            tf.expand_dims(x, 1) for x in [action_probs, values, returns]]\n",
        "\n",
        "        # 네트워크를 업데이트하기 위해 손실 값 계산\n",
        "        loss = compute_loss(action_probs, values, returns)\n",
        "\n",
        "    # 손실에서 그래디언트 값을 계산\n",
        "    grads = tape.gradient(loss, model.trainable_variables)\n",
        "\n",
        "    # 모델의 파라미터에 그래디언트를 적용\n",
        "    optimizer.apply_gradients(zip(grads, model.trainable_variables))\n",
        "\n",
        "    episode_reward = tf.math.reduce_sum(rewards)\n",
        "\n",
        "    return episode_reward"
      ],
      "execution_count": null,
      "outputs": []
    },
    {
      "cell_type": "markdown",
      "metadata": {
        "id": "-Jj0cbrGil0H"
      },
      "source": [
        "### 5. 훈련 루프 실행하기"
      ]
    },
    {
      "cell_type": "code",
      "metadata": {
        "colab": {
          "base_uri": "https://localhost:8080/"
        },
        "id": "E1qM_Zt8nM6M",
        "outputId": "4322f7bc-d223-465e-a147-06978c871afe"
      },
      "source": [
        "%%time\n",
        "\n",
        "max_episodes = 10000\n",
        "max_steps_per_episode = 1000\n",
        "\n",
        "# 100번의 연속적인 시도의 평균 보상 >= 195일 때\n",
        "# Cartpole-v0는 해결되었다고 판단\n",
        "reward_threshold = 195\n",
        "running_reward = 0\n",
        "\n",
        "# 미래의 보상을 위한 감가율\n",
        "gamma = 0.99\n",
        "\n",
        "with tqdm.trange(max_episodes) as t:\n",
        "    for i in t:\n",
        "        initial_state = tf.constant(env.reset(), dtype=tf.float32)\n",
        "        episode_reward = int(train_step(\n",
        "            initial_state, model, optimizer, gamma, max_steps_per_episode))\n",
        "        \n",
        "        running_reward = episode_reward*0.01 + running_reward*0.99\n",
        "        t.set_description(f'Episode {i}')\n",
        "        t.set_postfix(\n",
        "            episode_reward=episode_reward, running_reward=running_reward)\n",
        "        \n",
        "        # 10개의 에피소드마다 평균 에피소드 보상 표시\n",
        "        if i%10 == 0:\n",
        "            pass  # print(f'Episode {i}: average reward: {avg_reward}')\n",
        "\n",
        "        if running_reward > reward_threshold:\n",
        "            break\n",
        "\n",
        "print(f'\\nSolved at episode {i}: average reward: {running_reward:.2f}!')"
      ],
      "execution_count": null,
      "outputs": [
        {
          "output_type": "stream",
          "text": [
            "Episode 708:   7%|▋         | 708/10000 [01:04<14:08, 10.96it/s, episode_reward=200, running_reward=195]"
          ],
          "name": "stderr"
        },
        {
          "output_type": "stream",
          "text": [
            "\n",
            "Solved at episode 708: average reward: 195.05!\n",
            "CPU times: user 1min 29s, sys: 5.27 s, total: 1min 35s\n",
            "Wall time: 1min 4s\n"
          ],
          "name": "stdout"
        },
        {
          "output_type": "stream",
          "text": [
            "\n"
          ],
          "name": "stderr"
        }
      ]
    },
    {
      "cell_type": "markdown",
      "metadata": {
        "id": "CEYIlSsJitQu"
      },
      "source": [
        "## 시각화"
      ]
    },
    {
      "cell_type": "code",
      "metadata": {
        "id": "_yArm03u3EkH"
      },
      "source": [
        "# Render an episode and save as a GIF file\n",
        "\n",
        "from IPython import display as ipythondisplay\n",
        "from PIL import Image\n",
        "from pyvirtualdisplay import Display\n",
        "\n",
        "\n",
        "display = Display(visible=0, size=(400, 300))\n",
        "display.start()\n",
        "\n",
        "\n",
        "def render_episode(env: gym.Env, model: tf.keras.Model, max_steps: int): \n",
        "  screen = env.render(mode='rgb_array')\n",
        "  im = Image.fromarray(screen)\n",
        "\n",
        "  images = [im]\n",
        "\n",
        "  state = tf.constant(env.reset(), dtype=tf.float32)\n",
        "  for i in range(1, max_steps + 1):\n",
        "    state = tf.expand_dims(state, 0)\n",
        "    action_probs, _ = model(state)\n",
        "    action = np.argmax(np.squeeze(action_probs))\n",
        "\n",
        "    state, _, done, _ = env.step(action)\n",
        "    state = tf.constant(state, dtype=tf.float32)\n",
        "\n",
        "    # Render screen every 10 steps\n",
        "    if i % 10 == 0:\n",
        "      screen = env.render(mode='rgb_array')\n",
        "      images.append(Image.fromarray(screen))\n",
        "\n",
        "    if done:\n",
        "      break\n",
        "\n",
        "  return images\n",
        "\n",
        "\n",
        "# Save GIF image\n",
        "images = render_episode(env, model, max_steps_per_episode)\n",
        "image_file = 'cartpole-v0.gif'\n",
        "# loop=0: loop forever, duration=1: play each frame for 1ms\n",
        "images[0].save(\n",
        "    image_file, save_all=True, append_images=images[1:], loop=0, duration=1)"
      ],
      "execution_count": null,
      "outputs": []
    },
    {
      "cell_type": "code",
      "metadata": {
        "colab": {
          "base_uri": "https://localhost:8080/",
          "height": 420
        },
        "id": "tCVITPrG4Ici",
        "outputId": "6234c386-42d5-4282-fc45-c0bc2ed2cc85"
      },
      "source": [
        "import tensorflow_docs.vis.embed as embed\n",
        "embed.embed_file(image_file)"
      ],
      "execution_count": null,
      "outputs": [
        {
          "output_type": "execute_result",
          "data": {
            "text/html": [
              "<img src=\"data:image/gif;base64,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\"/>"
            ],
            "text/plain": [
              "<IPython.core.display.HTML object>"
            ]
          },
          "metadata": {
            "tags": []
          },
          "execution_count": 14
        }
      ]
    },
    {
      "cell_type": "code",
      "metadata": {
        "id": "GpKn2_8s4JsH"
      },
      "source": [
        ""
      ],
      "execution_count": null,
      "outputs": []
    }
  ]
}